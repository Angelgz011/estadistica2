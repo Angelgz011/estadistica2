{
  "nbformat": 4,
  "nbformat_minor": 0,
  "metadata": {
    "colab": {
      "provenance": [],
      "authorship_tag": "ABX9TyNh50MxqeeRlwNPM3GN8Siq",
      "include_colab_link": true
    },
    "kernelspec": {
      "name": "python3",
      "display_name": "Python 3"
    },
    "language_info": {
      "name": "python"
    }
  },
  "cells": [
    {
      "cell_type": "markdown",
      "metadata": {
        "id": "view-in-github",
        "colab_type": "text"
      },
      "source": [
        "<a href=\"https://colab.research.google.com/github/Angelgz011/estadistica2/blob/main/eii_u1_01_22150429.ipynb\" target=\"_parent\"><img src=\"https://colab.research.google.com/assets/colab-badge.svg\" alt=\"Open In Colab\"/></a>"
      ]
    },
    {
      "cell_type": "code",
      "execution_count": 1,
      "metadata": {
        "colab": {
          "base_uri": "https://localhost:8080/",
          "height": 211
        },
        "id": "IVlaXpC6GxQV",
        "outputId": "543cbe83-41aa-4c3a-ac43-4809cc4981c1"
      },
      "outputs": [
        {
          "output_type": "error",
          "ename": "NameError",
          "evalue": "name 'y' is not defined",
          "traceback": [
            "\u001b[0;31m---------------------------------------------------------------------------\u001b[0m",
            "\u001b[0;31mNameError\u001b[0m                                 Traceback (most recent call last)",
            "\u001b[0;32m<ipython-input-1-1ca46a889885>\u001b[0m in \u001b[0;36m<cell line: 0>\u001b[0;34m()\u001b[0m\n\u001b[1;32m     11\u001b[0m \u001b[0;31m#Gráfico de dispersión y recta de regresión ajustada\u001b[0m\u001b[0;34m\u001b[0m\u001b[0;34m\u001b[0m\u001b[0m\n\u001b[1;32m     12\u001b[0m \u001b[0;32mimport\u001b[0m \u001b[0mmatplotlib\u001b[0m\u001b[0;34m.\u001b[0m\u001b[0mpyplot\u001b[0m \u001b[0;32mas\u001b[0m \u001b[0mplt\u001b[0m\u001b[0;34m\u001b[0m\u001b[0;34m\u001b[0m\u001b[0m\n\u001b[0;32m---> 13\u001b[0;31m \u001b[0mplt\u001b[0m\u001b[0;34m.\u001b[0m\u001b[0mscatter\u001b[0m\u001b[0;34m(\u001b[0m\u001b[0mX\u001b[0m\u001b[0;34m,\u001b[0m \u001b[0my\u001b[0m\u001b[0;34m,\u001b[0m \u001b[0mcolor\u001b[0m \u001b[0;34m=\u001b[0m \u001b[0;34m\"#13d991\"\u001b[0m\u001b[0;34m)\u001b[0m\u001b[0;34m\u001b[0m\u001b[0;34m\u001b[0m\u001b[0m\n\u001b[0m\u001b[1;32m     14\u001b[0m \u001b[0mplt\u001b[0m\u001b[0;34m.\u001b[0m\u001b[0mxlabel\u001b[0m\u001b[0;34m(\u001b[0m\u001b[0;34m'Duración'\u001b[0m\u001b[0;34m,\u001b[0m \u001b[0mcolor\u001b[0m\u001b[0;34m=\u001b[0m \u001b[0;34m\"red\"\u001b[0m\u001b[0;34m)\u001b[0m\u001b[0;34m\u001b[0m\u001b[0;34m\u001b[0m\u001b[0m\n\u001b[1;32m     15\u001b[0m \u001b[0mplt\u001b[0m\u001b[0;34m.\u001b[0m\u001b[0mylabel\u001b[0m\u001b[0;34m(\u001b[0m\u001b[0;34m'Calorías'\u001b[0m\u001b[0;34m,\u001b[0m \u001b[0mcolor\u001b[0m \u001b[0;34m=\u001b[0m \u001b[0;34m\"blue\"\u001b[0m\u001b[0;34m)\u001b[0m\u001b[0;34m\u001b[0m\u001b[0;34m\u001b[0m\u001b[0m\n",
            "\u001b[0;31mNameError\u001b[0m: name 'y' is not defined"
          ]
        }
      ],
      "source": [
        "import pandas as pd\n",
        "df = pd.read_csv(\"https://raw.githubusercontent.com/Angelgz011/estadistica2/refs/heads/main/data.csv\")\n",
        "df.dropna(inplace=True)\n",
        "\n",
        "# Variable independiente X\n",
        "X = df['Duration']\n",
        "\n",
        "# Variable dependiente Y\n",
        "Y = df['Calories']\n",
        "\n",
        "#Gráfico de dispersión y recta de regresión ajustada\n",
        "import matplotlib.pyplot as plt\n",
        "plt.scatter(X, y, color = \"#13d991\")\n",
        "plt.xlabel('Duración', color= \"red\")\n",
        "plt.ylabel('Calorías', color = \"blue\")\n",
        "\n",
        "#Inciso b)\n",
        "#Recta de regresión ajsutada\n",
        "import statsmodels.api as sm\n",
        "x_constante = sm.add_constant(X)\n",
        "modelo = sm.OLS(Y, x_constante).fit()\n",
        "b0, b1 = modelo.params\n",
        "fun = lambda x: b0 + b1*X\n",
        "Yc = fun(X)\n",
        "plt.plot(X, Yc, color = \"red\", linestyle = \"--\")\n",
        "\n",
        "\n",
        "\n",
        "#inciso c)\n",
        "#Calcular el coeficiente de correlación por medio de una función\n",
        "from scipy.stats import pearsonr\n",
        "r,_ = pearsonr(X,y)\n",
        "print(f\"Coeficiente de correlación: {r : 0.4f}\")\n",
        "print(\"Este coeficiente de correlación nos indica que hay una relación muy positiva ya que es muy cercano a 1\\n\")\n",
        "#Calcular el coeficiente de determinación elevando al cuadrado el coeficiente de correlación\n",
        "print(f\"Coeficiente de determinación: {r**2 : 0.4f}\")\n",
        "print(\"El coeficiente de determinación nos indica que el 85.14% de la variación tiene relación con la duración del ejercicio\\n\")\n",
        "\n",
        "\n",
        "\n",
        "#Inciso d)\n",
        "nivel_de_confianza = 0.95\n",
        "intervalo_de_confianza = modelo.conf_int(alpha = 1 - nivel_de_confianza)\n",
        "intervalo_de_confianza_b1 = intervalo_de_confianza.iloc[1]\n",
        "print(f\"Intervalo de confianza para b1 de {nivel_de_confianza: 0.0%}\")\n",
        "print(f\"{intervalo_de_confianza_b1[0]:0.4f} < b1 < {intervalo_de_confianza_b1[1]: 0.4f}\\n\")\n",
        "#COMPROBACIÓN CON ANOVA\n",
        "from statsmodels.formula.api import ols\n",
        "\n",
        "modelo_2 =ols(\"Duration ~ Calories\", data = df).fit()\n",
        "tabla_anova = sm.stats.anova_lm(modelo_2)\n",
        "tabla_anova\n",
        "\n",
        "\n",
        "\n"
      ]
    },
    {
      "cell_type": "code",
      "source": [],
      "metadata": {
        "id": "ERSca2j1QnjG"
      },
      "execution_count": null,
      "outputs": []
    }
  ]
}